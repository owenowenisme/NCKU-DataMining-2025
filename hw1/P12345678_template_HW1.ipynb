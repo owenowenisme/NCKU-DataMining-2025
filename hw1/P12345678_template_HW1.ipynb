{
 "cells": [
  {
   "cell_type": "markdown",
   "metadata": {},
   "source": [
    "# Homework 1 - Foundations of Data Analysis"
   ]
  },
  {
   "cell_type": "markdown",
   "metadata": {},
   "source": [
    "## 1. Data Explorations (10%)"
   ]
  },
  {
   "cell_type": "markdown",
   "metadata": {},
   "source": [
    "### a. 按字母順序排序。繪製特徵之間的相關性熱圖，問對角線元素始終為 1 的原因 (4%)\n",
    "- ans: {your_explanation_here}"
   ]
  },
  {
   "cell_type": "code",
   "execution_count": 1,
   "metadata": {},
   "outputs": [],
   "source": [
    "# your code here"
   ]
  },
  {
   "cell_type": "markdown",
   "metadata": {},
   "source": [
    "### b. 列出與卡路里有第二大正相關的特徵 (2%)\n",
    "- ans: {your_explanation_here}\n"
   ]
  },
  {
   "cell_type": "markdown",
   "metadata": {},
   "source": [
    "### c. 為 (b) 的特徵和 calories 畫散點圖 (2%)"
   ]
  },
  {
   "cell_type": "code",
   "execution_count": 2,
   "metadata": {},
   "outputs": [],
   "source": [
    "# your code here"
   ]
  },
  {
   "cell_type": "markdown",
   "metadata": {},
   "source": [
    "### d. 為卡路里、總脂肪、蛋白質和碳水化合物特徵繪製箱形圖 (2%)"
   ]
  },
  {
   "cell_type": "code",
   "execution_count": 3,
   "metadata": {},
   "outputs": [],
   "source": [
    "# your code here"
   ]
  },
  {
   "cell_type": "markdown",
   "metadata": {},
   "source": [
    "## 2. Pre-processing (10%)"
   ]
  },
  {
   "cell_type": "markdown",
   "metadata": {},
   "source": [
    "### a. 報告所有數值特徵的中位數和標準差 (2%)"
   ]
  },
  {
   "cell_type": "code",
   "execution_count": 4,
   "metadata": {},
   "outputs": [],
   "source": [
    "# your code here"
   ]
  },
  {
   "cell_type": "markdown",
   "metadata": {},
   "source": [
    "### b. 將(3a)中所有數值特徵的離群值替換為NaN，並回報每個特徵對應的NaN總數 (3%)"
   ]
  },
  {
   "cell_type": "code",
   "execution_count": 5,
   "metadata": {},
   "outputs": [],
   "source": [
    "# your code here"
   ]
  },
  {
   "cell_type": "markdown",
   "metadata": {},
   "source": [
    "### c. 將缺失值（NaN）替換為平均值，回報中位數和標準差。將結果與(3a)比較，並用一句話解釋你的發現 (5%)\n",
    "- ans: {your_explanation_here}"
   ]
  },
  {
   "cell_type": "code",
   "execution_count": 6,
   "metadata": {},
   "outputs": [],
   "source": [
    "# your code here"
   ]
  },
  {
   "cell_type": "markdown",
   "metadata": {},
   "source": [
    "## 3. Linear Regression (20%)"
   ]
  },
  {
   "cell_type": "markdown",
   "metadata": {},
   "source": [
    "### a. 使用所有資料訓練一個線性預測器來預測卡路里，回報b、w₁、w₂和w₃的值並解釋它們在現實世界中的含義 (10%)\n",
    "- ans: {your_explanation_here} "
   ]
  },
  {
   "cell_type": "code",
   "execution_count": 7,
   "metadata": {},
   "outputs": [],
   "source": [
    "# your code here"
   ]
  },
  {
   "cell_type": "markdown",
   "metadata": {},
   "source": [
    "### b. 使用所有資料訓練另一個線性預測器來預測卡路里，回報b和w₁的值，並解釋與(a)中的w₁之差異 (10%)\n",
    "- ans: {your_explanation_here}"
   ]
  },
  {
   "cell_type": "code",
   "execution_count": 8,
   "metadata": {},
   "outputs": [],
   "source": [
    "# your code here"
   ]
  },
  {
   "cell_type": "markdown",
   "metadata": {},
   "source": [
    "## 4. Logistic Regression (25%)"
   ]
  },
  {
   "cell_type": "markdown",
   "metadata": {},
   "source": [
    "### a. 計算卡路里的中位數，回報中位數以及分別標記為1和0的項目數量 (3%)"
   ]
  },
  {
   "cell_type": "code",
   "execution_count": 9,
   "metadata": {},
   "outputs": [],
   "source": [
    "# your code here"
   ]
  },
  {
   "cell_type": "markdown",
   "metadata": {},
   "source": [
    "### b. 根據檔案中出現的順序將資料在訓練資料上訓練邏輯迴歸，並根據預測結果繪製混淆矩陣，回報預測結果的準確率、精確率、召回率和F1分數 (9%)"
   ]
  },
  {
   "cell_type": "code",
   "execution_count": 10,
   "metadata": {},
   "outputs": [],
   "source": [
    "# your code here"
   ]
  },
  {
   "cell_type": "markdown",
   "metadata": {},
   "source": [
    "### c. 使用4(b)中相同的資料分割，在訓練資料和所有21個特徵上訓練邏輯迴歸，根據預測結果繪製混淆矩陣，回報預測結果的準確率、精確率、召回率和F1分數 (9%)"
   ]
  },
  {
   "cell_type": "code",
   "execution_count": 11,
   "metadata": {},
   "outputs": [],
   "source": [
    "# your code here"
   ]
  },
  {
   "cell_type": "markdown",
   "metadata": {},
   "source": [
    "### d. 比較4(b)和4(c)的訓練損失和測試損失，哪個可能是更好的模型？解釋你的理由(4%)\n",
    "- ans: {your_explanation_here} \n"
   ]
  },
  {
   "cell_type": "markdown",
   "metadata": {},
   "source": [
    "## 5. Cross Validation (15%)"
   ]
  },
  {
   "cell_type": "markdown",
   "metadata": {},
   "source": [
    "### a. 使用與4(c)相同的公式進行5折交叉驗證。通過填寫下表報告訓練和驗證損失。根據表格解釋哪個模型可能具有最佳泛化能力 (12%)\n",
    "- ans: {your_explanation_here}"
   ]
  },
  {
   "cell_type": "code",
   "execution_count": 12,
   "metadata": {},
   "outputs": [],
   "source": [
    "# your code here"
   ]
  },
  {
   "cell_type": "markdown",
   "metadata": {},
   "source": [
    "### b. 將5(a)中確定的最具泛化能力的模型應用於測試資料後，它是否比4(c)中的模型具有更好的準確率？解釋為什麼或為什麼不 (3%)\n",
    "- ans: {your_explanation_here}"
   ]
  },
  {
   "cell_type": "code",
   "execution_count": 13,
   "metadata": {},
   "outputs": [],
   "source": [
    "# your code here"
   ]
  },
  {
   "cell_type": "markdown",
   "metadata": {},
   "source": [
    "## 6. Regularization  "
   ]
  },
  {
   "cell_type": "markdown",
   "metadata": {},
   "source": [
    "### a. 為4(c)中的二元分類器添加L2範數正則化項，根據訓練損失和驗證損失繪製學習曲線，以選擇超參數λ₂，並使用5折平均訓練損失來表示此性能。回報圖表、最佳λ₂，以及使用最佳λ₂在測試資料上的準確率 (7%)"
   ]
  },
  {
   "cell_type": "code",
   "execution_count": 14,
   "metadata": {},
   "outputs": [],
   "source": [
    "# your code here"
   ]
  },
  {
   "cell_type": "markdown",
   "metadata": {},
   "source": [
    "### b. Lasso迴歸：為4(c)中的二元分類器添加L1範數正則化項，重複6(a)中關於λ₁的學習曲線繪製過程。報告圖表、最佳λ₁，以及使用最佳λ₁在測試資料上的準確率。使用Lasso迴歸可以從訓練過程中排除多少特徵？解釋如何找到這個數字 (9%)\n",
    "- ans: {your_explanation_here}"
   ]
  },
  {
   "cell_type": "code",
   "execution_count": 15,
   "metadata": {},
   "outputs": [],
   "source": [
    "# your code here"
   ]
  },
  {
   "cell_type": "markdown",
   "metadata": {},
   "source": [
    "### c. 比較5(b)、6(a)和6(b)獲得的結果，哪個產生最佳準確率，為什麼 (4%)\n",
    "- ans: {your_explanation_here}"
   ]
  }
 ],
 "metadata": {
  "kernelspec": {
   "display_name": "Python 3",
   "language": "python",
   "name": "python3"
  },
  "language_info": {
   "codemirror_mode": {
    "name": "ipython",
    "version": 3
   },
   "file_extension": ".py",
   "mimetype": "text/x-python",
   "name": "python",
   "nbconvert_exporter": "python",
   "pygments_lexer": "ipython3",
   "version": "3.10.15"
  }
 },
 "nbformat": 4,
 "nbformat_minor": 2
}
